{
 "cells": [
  {
   "metadata": {},
   "cell_type": "markdown",
   "source": [
    "# Model Development Notebook\n",
    "\n",
    "Bu notebook, haber metinleri için **kategori sınıflandırma, bilgi çıkarımı ve özetleme** işlemlerini gerçekleştiren modelin geliştirilme sürecini içerir."
   ],
   "id": "69e74cd27e20a6d2"
  },
  {
   "cell_type": "code",
   "id": "initial_id",
   "metadata": {
    "collapsed": true,
    "ExecuteTime": {
     "end_time": "2025-02-25T10:57:13.297068Z",
     "start_time": "2025-02-25T10:57:04.566013Z"
    }
   },
   "source": [
    "import sys\n",
    "import os\n",
    "import torch\n",
    "import transformers\n",
    "import datasets\n",
    "import nltk\n",
    "import spacy\n",
    "import yaml\n",
    "sys.path.append(os.path.abspath(\"..\"))  # notebooks klasörünün bir üst dizinini ekler\n",
    "from src.multi_task_pipeline import load_category_model, multi_task_pipeline\n",
    "from src.utils.zero_shot_classification import load_zero_shot_model, classify_zero_shot\n",
    "from src.utils.evaluation_metrics import evaluate_metrics\n",
    "from sklearn.metrics import accuracy_score, precision_score, recall_score, f1_score\n"
   ],
   "outputs": [
    {
     "name": "stderr",
     "output_type": "stream",
     "text": [
      "/Users/bugrabilgecelik/PycharmProjects/YZMD_BugraBilgeCelik/.venv/lib/python3.12/site-packages/tqdm/auto.py:21: TqdmWarning: IProgress not found. Please update jupyter and ipywidgets. See https://ipywidgets.readthedocs.io/en/stable/user_install.html\n",
      "  from .autonotebook import tqdm as notebook_tqdm\n",
      "Some weights of PegasusForConditionalGeneration were not initialized from the model checkpoint at google/pegasus-cnn_dailymail and are newly initialized: ['model.decoder.embed_positions.weight', 'model.encoder.embed_positions.weight']\n",
      "You should probably TRAIN this model on a down-stream task to be able to use it for predictions and inference.\n",
      "Device set to use mps:0\n"
     ]
    }
   ],
   "execution_count": 1
  },
  {
   "metadata": {
    "ExecuteTime": {
     "end_time": "2025-02-25T10:57:23.199124Z",
     "start_time": "2025-02-25T10:57:15.973750Z"
    }
   },
   "cell_type": "code",
   "source": [
    "# Model Yükleme\n",
    "category_model, tokenizer, labels = load_category_model()\n",
    "\n",
    "# Veri Setini Yükleme (AG News Test Verisi)\n",
    "from datasets import load_dataset\n",
    "\n",
    "dataset = load_dataset(\"ag_news\", split=\"test\").shuffle(seed=42).select(range(10))  # İlk 10 haberle test\n"
   ],
   "id": "57d32b5eeaa9dfcc",
   "outputs": [],
   "execution_count": 2
  },
  {
   "metadata": {
    "ExecuteTime": {
     "end_time": "2025-02-25T10:57:54.545544Z",
     "start_time": "2025-02-25T10:57:25.115528Z"
    }
   },
   "cell_type": "code",
   "source": [
    "# ** Model Testi (Inference) ve Karşılaştırma**\n",
    "y_true, y_pred = [], []\n",
    "rouge_scores, bleu_scores = [], []\n",
    "\n",
    "for i, example in enumerate(dataset):\n",
    "    text, true_category = example[\"text\"], labels[example[\"label\"]]\n",
    "    result = multi_task_pipeline(text, category_model, tokenizer, labels)\n",
    "\n",
    "    print(f\"\\n### Haber {i+1} ###\")\n",
    "    print(\"Gerçek Kategori:\", true_category)\n",
    "    print(\"Model Kategori tahmini:\", result[\"category\"])\n",
    "    print(\"Model Çıktısı:\")\n",
    "    print(result)\n",
    "\n",
    "    # **Kategori karşılaştırma için listeleri güncelle**\n",
    "    y_true.append(true_category)\n",
    "    y_pred.append(result[\"category\"])\n",
    "\n",
    "    # **Özetleme Metrikleri**\n",
    "    summary_metrics = evaluate_metrics(text, result[\"summary\"])\n",
    "    rouge_scores.append(summary_metrics[\"ROUGE-L\"])\n",
    "    bleu_scores.append(summary_metrics[\"BLEU\"])"
   ],
   "id": "89b8fda92b1833e5",
   "outputs": [
    {
     "name": "stdout",
     "output_type": "stream",
     "text": [
      "\n",
      "### Haber 1 ###\n",
      "Gerçek Kategori: Sports\n",
      "Model Kategori tahmini: Sports\n",
      "Model Çıktısı:\n",
      "{'news_id': 'fb7be88f-c523-4170-a4a2-4e25278a3507', 'category': 'Sports', 'keywords': ['Australia', 'Indian', 'Wednesday'], 'entities': {'locations': ['Australia', 'Indian'], 'dates': ['2025-02-26', '2039-02-25']}, 'summary': \"The Indian cricket board said on Wednesday it was making arrangements to broadcast next month's test series against Australia .Australia is under threat because of a raging TV rights dispute\", 'confidence_scores': {'category': 0.9957192540168762, 'extraction': 0.9728596270084381}}\n",
      "\n",
      "### Haber 2 ###\n",
      "Gerçek Kategori: Business\n",
      "Model Kategori tahmini: Business\n",
      "Model Çıktısı:\n",
      "{'news_id': 'f699bf9b-7fd9-4063-98a4-e06f53e571aa', 'category': 'Business', 'keywords': ['Drop', 'Thursday', 'Higher'], 'entities': {'locations': [], 'dates': ['2025-02-27']}, 'summary': 'A sharp drop in initial unemployment claims and bullish forecasts from Nokia and Texas Instruments sent stocks slightly higher in early trading Thursday', 'confidence_scores': {'category': 0.9941251277923584, 'extraction': 0.9720625638961792}}\n",
      "\n",
      "### Haber 3 ###\n",
      "Gerçek Kategori: Sports\n",
      "Model Kategori tahmini: Sports\n",
      "Model Çıktısı:\n",
      "{'news_id': 'e65051c4-d7d3-458a-a19d-9702b2869308', 'category': 'Sports', 'keywords': ['points', 'rebounds', 'Carmelo'], 'entities': {'locations': [], 'dates': ['2025-02-26']}, 'summary': 'The Denver Nuggets beat the Toronto Raptors 112-106 on Wednesday night .Carmelo Anthony scored 30 points', 'confidence_scores': {'category': 0.9903151392936707, 'extraction': 0.9701575696468353}}\n",
      "\n",
      "### Haber 4 ###\n",
      "Gerçek Kategori: Business\n",
      "Model Kategori tahmini: Business\n",
      "Model Çıktısı:\n",
      "{'news_id': '4ed2f563-20ca-4c9d-bb98-58e8730b4e60', 'category': 'Business', 'keywords': ['Higher', 'Drop', 'Thursday'], 'entities': {'locations': [], 'dates': ['2025-02-27']}, 'summary': 'A sharp drop in initial unemployment claims and bullish forecasts from Nokia and Texas Instruments sent stocks higher in early trading Thursday', 'confidence_scores': {'category': 0.9935890436172485, 'extraction': 0.9717945218086242}}\n",
      "\n",
      "### Haber 5 ###\n",
      "Gerçek Kategori: Sci/Tech\n",
      "Model Kategori tahmini: Sci/Tech\n",
      "Model Çıktısı:\n",
      "{'news_id': '1bd983b3-6f9a-4270-828c-60fb1f1d28da', 'category': 'Sci/Tech', 'keywords': ['REVIEW', 'Half-Life', 'Masterpiece'], 'entities': {'locations': [], 'dates': []}, 'summary': 'It\\'s been six years since Valve Corp. perfected the first-person shooter with \"Half-Life\"Video games have come a long way since, with better graphics and more options than ever .\"Half-', 'confidence_scores': {'category': 0.9980159997940063, 'extraction': 0.9740079998970032}}\n",
      "\n",
      "### Haber 6 ###\n",
      "Gerçek Kategori: World\n",
      "Model Kategori tahmini: Business\n",
      "Model Çıktısı:\n",
      "{'news_id': 'e37eaa2b-f2ba-4911-981e-bc78cd669865', 'category': 'Business', 'keywords': ['AFP', 'China', 'inflation'], 'entities': {'locations': ['China'], 'dates': ['2025-10-25']}, 'summary': \"China's inflation rate eased sharply in October as government efforts to cool the economy began to bite .Food prices, one of the main culprits, showing some signs of slowing .\", 'confidence_scores': {'category': 0.7126021981239319, 'extraction': 0.8313010990619659}}\n",
      "\n",
      "### Haber 7 ###\n",
      "Gerçek Kategori: Business\n",
      "Model Kategori tahmini: Business\n",
      "Model Çıktısı:\n",
      "{'news_id': '43475f79-eda2-4987-9225-4c2768422393', 'category': 'Business', 'keywords': ['ADV', 'Days', 'Trading'], 'entities': {'locations': [], 'dates': []}, 'summary': 'Try Currency Trading Risk-Free 30 Days 24-hour commission-free trading, 100-to-1 leverage of your capital, and Dealbook Fx 2', 'confidence_scores': {'category': 0.8083189725875854, 'extraction': 0.8791594862937927}}\n",
      "\n",
      "### Haber 8 ###\n",
      "Gerçek Kategori: Business\n",
      "Model Kategori tahmini: Business\n",
      "Model Çıktısı:\n",
      "{'news_id': 'be7b5da5-6de5-4bff-aad3-fdb5a20ea32c', 'category': 'Business', 'keywords': ['OPEC', 'Raise', 'Capacity'], 'entities': {'locations': [], 'dates': []}, 'summary': \"OPEC can raise production capacity by 1 million barrels a day by year-end, its president says .The Organization of Petroleum Exporting Countries supplies a third of the world's\", 'confidence_scores': {'category': 0.9957448840141296, 'extraction': 0.9728724420070648}}\n",
      "\n",
      "### Haber 9 ###\n",
      "Gerçek Kategori: Sci/Tech\n",
      "Model Kategori tahmini: Sci/Tech\n",
      "Model Çıktısı:\n",
      "{'news_id': '82a0fbc5-0c18-45fb-8a18-5f5e47436e6d', 'category': 'Sci/Tech', 'keywords': ['Oct', 'Pentium', 'speed'], 'entities': {'locations': ['New York'], 'dates': ['2025-10-19']}, 'summary': 'Intel yanks its four giga hertz (4 GHz) Pentium 4 processor off the drawing board .The world #39;s leading computer chipmaker says it will focus on', 'confidence_scores': {'category': 0.9862988591194153, 'extraction': 0.9681494295597076}}\n",
      "\n",
      "### Haber 10 ###\n",
      "Gerçek Kategori: Business\n",
      "Model Kategori tahmini: Sci/Tech\n",
      "Model Çıktısı:\n",
      "{'news_id': '30abf56f-d17f-4c63-b5b3-c1e4b494ed76', 'category': 'Sci/Tech', 'keywords': ['NewsFactor', 'Amazon.com', 'Nasdaq'], 'entities': {'locations': ['British Virgin Islands', 'China'], 'dates': []}, 'summary': 'Amazon.com will buy Joyo.com Limited, the largest Internet retail Web site in China .Amazon will pay US #36;75 million for the British Virgin', 'confidence_scores': {'category': 0.9905012845993042, 'extraction': 0.9702506422996521}}\n"
     ]
    }
   ],
   "execution_count": 3
  },
  {
   "metadata": {
    "ExecuteTime": {
     "end_time": "2025-02-25T10:58:03.743404Z",
     "start_time": "2025-02-25T10:58:03.735182Z"
    }
   },
   "cell_type": "code",
   "source": [
    "# **Model Performans Değerlendirmesi**\n",
    "accuracy = accuracy_score(y_true, y_pred)\n",
    "precision = precision_score(y_true, y_pred, average='weighted', zero_division=1)\n",
    "recall = recall_score(y_true, y_pred, average='weighted', zero_division=1)\n",
    "f1 = f1_score(y_true, y_pred, average='weighted', zero_division=1)\n",
    "\n",
    "# **Özetleme metriklerinin ortalaması**\n",
    "avg_rouge = sum(rouge_scores) / len(rouge_scores)\n",
    "avg_bleu = sum(bleu_scores) / len(bleu_scores)\n",
    "\n",
    "print(\"\\n### Genel Model Performansı ###\")\n",
    "print(f\"Kategori Sınıflandırma - Accuracy: {accuracy:.4f}, Precision: {precision:.4f}, Recall: {recall:.4f}, F1-score: {f1:.4f}\")\n",
    "print(f\"Özetleme - ROUGE-L: {avg_rouge:.4f}, BLEU: {avg_bleu:.4f}\")"
   ],
   "id": "ea7ab4f012bee9e1",
   "outputs": [
    {
     "name": "stdout",
     "output_type": "stream",
     "text": [
      "\n",
      "### Genel Model Performansı ###\n",
      "Kategori Sınıflandırma - Accuracy: 0.8000, Precision: 0.8333, Recall: 0.8000, F1-score: 0.7600\n",
      "Özetleme - ROUGE-L: 0.6690, BLEU: 0.4061\n"
     ]
    }
   ],
   "execution_count": 5
  },
  {
   "metadata": {
    "ExecuteTime": {
     "end_time": "2025-02-25T10:58:17.415965Z",
     "start_time": "2025-02-25T10:58:12.204656Z"
    }
   },
   "cell_type": "code",
   "source": [
    "# Zero-Shot Modeli Yükle\n",
    "zero_shot_model, zero_shot_tokenizer = load_zero_shot_model()\n",
    "\n",
    "# Test İçin Bir Haber Örneği\n",
    "text = \"NASA is planning a new mission to explore Mars and gather data on its atmosphere.\"\n",
    "\n",
    "# Zero-Shot Kategori Etiketleri\n",
    "custom_labels = [\"Politics\", \"Space\" ,\"Sports\", \"Business\"]\n",
    "\n",
    "# Zero-Shot Sınıflandırmayı Çalıştır\n",
    "result = classify_zero_shot(text, custom_labels, zero_shot_model, zero_shot_tokenizer)\n",
    "\n",
    "# Çıktıyı Yazdır\n",
    "print(\"\\n### Zero-Shot Sınıflandırma Sonucu ###\")\n",
    "print(f\"🔹 Metin: {text}\")\n",
    "print(f\"🔹 Tahmin Edilen Kategori: {result['label']}\")\n",
    "print(f\"🔹 Güven Skoru: {result['confidence']:.4f}\")"
   ],
   "id": "2ec8782af24d4969",
   "outputs": [
    {
     "name": "stderr",
     "output_type": "stream",
     "text": [
      "Device set to use mps:0\n"
     ]
    },
    {
     "name": "stdout",
     "output_type": "stream",
     "text": [
      "\n",
      "### Zero-Shot Sınıflandırma Sonucu ###\n",
      "🔹 Metin: NASA is planning a new mission to explore Mars and gather data on its atmosphere.\n",
      "🔹 Tahmin Edilen Kategori: Space\n",
      "🔹 Güven Skoru: 0.6621\n"
     ]
    }
   ],
   "execution_count": 6
  },
  {
   "metadata": {
    "ExecuteTime": {
     "end_time": "2025-02-23T23:34:45.907071Z",
     "start_time": "2025-02-23T23:34:41.378582Z"
    }
   },
   "cell_type": "code",
   "source": [
    "# Almanca Haber Metni Değerlendirme\n",
    "german_news = \"Jannik Sinner ist ein italienischer Tennisspieler. Es ist die Nummer 1 der Welt. Am 24. Februar wurde ihm ein Dopingverbot erteilt..\"\n",
    "print(\"\\n### Almanca Haber Testi ###\")\n",
    "print(\"Girdi:\", german_news)\n",
    "\n",
    "german_result = multi_task_pipeline(german_news, category_model, tokenizer, labels)\n",
    "print(\"Model Çıktısı:\")\n",
    "print(german_result)"
   ],
   "id": "e7bef8034e6a042f",
   "outputs": [
    {
     "name": "stdout",
     "output_type": "stream",
     "text": [
      "\n",
      "### Almanca Haber Testi ###\n",
      "Girdi: Jannik Sinner ist ein italienischer Tennisspieler. Es ist die Nummer 1 der Welt. Am 24. Februar wurde ihm ein Dopingverbot erteilt..\n",
      "Model Çıktısı:\n",
      "{'news_id': '1564b77a-4137-4271-81f8-843ac23762ef', 'category': 'Sports', 'keywords': ['Tennisspieler', 'Sinner', 'Jannik'], 'entities': {'locations': [], 'dates': ['2025-02-24']}, 'summary': 'Jannik Sinner ist ein italienischer Tennisspieler.Es ist die Nummer 1 der Welt. Am 24. Februar ihm ein Dopingverbot', 'confidence_scores': {'category': 0.9991621971130371, 'extraction': 0.9745810985565185}}\n"
     ]
    }
   ],
   "execution_count": 6
  },
  {
   "metadata": {
    "ExecuteTime": {
     "end_time": "2025-02-23T23:31:15.406693Z",
     "start_time": "2025-02-23T23:30:12.892211Z"
    }
   },
   "cell_type": "code",
   "source": [
    "# **6️⃣ Web Arayüzünü Başlat (Gradio)**\n",
    "import subprocess\n",
    "import os\n",
    "\n",
    "# **6️⃣ Web Arayüzünü Başlat (Gradio)**\n",
    "print(\"\\n🚀 **Gradio Web Arayüzü Başlatılıyor...**\")\n",
    "script_path = os.path.abspath(os.path.join(os.getcwd(), \"../src/multi_task_web_demo.py\"))\n",
    "subprocess.run([\"python\", script_path])\n",
    "\n",
    "print(\"\\n✅ Web Arayüzü Aç: http://127.0.0.1:7860\")"
   ],
   "id": "2868ba2cf754ba0e",
   "outputs": [
    {
     "name": "stdout",
     "output_type": "stream",
     "text": [
      "\n",
      "🚀 **Gradio Web Arayüzü Başlatılıyor...**\n"
     ]
    },
    {
     "name": "stderr",
     "output_type": "stream",
     "text": [
      "Some weights of PegasusForConditionalGeneration were not initialized from the model checkpoint at google/pegasus-cnn_dailymail and are newly initialized: ['model.decoder.embed_positions.weight', 'model.encoder.embed_positions.weight']\n",
      "You should probably TRAIN this model on a down-stream task to be able to use it for predictions and inference.\n",
      "Device set to use mps:0\n",
      "Your max_length is set to 49, but your input_length is only 41. Since this is a summarization task, where outputs shorter than the input are typically wanted, you might consider decreasing max_length manually, e.g. summarizer('...', max_length=20)\n"
     ]
    },
    {
     "name": "stdout",
     "output_type": "stream",
     "text": [
      "* Running on local URL:  http://127.0.0.1:7860\n",
      "* Running on public URL: https://0fddb691abd76aea80.gradio.live\n",
      "\n",
      "This share link expires in 72 hours. For free permanent hosting and GPU upgrades, run `gradio deploy` from the terminal in the working directory to deploy to Hugging Face Spaces (https://huggingface.co/spaces)\n",
      "Keyboard interruption in main thread... closing server.\n",
      "Killing tunnel 127.0.0.1:7860 <> https://0fddb691abd76aea80.gradio.live\n"
     ]
    },
    {
     "ename": "KeyboardInterrupt",
     "evalue": "",
     "output_type": "error",
     "traceback": [
      "\u001B[0;31m---------------------------------------------------------------------------\u001B[0m",
      "\u001B[0;31mKeyboardInterrupt\u001B[0m                         Traceback (most recent call last)",
      "Cell \u001B[0;32mIn[1], line 8\u001B[0m\n\u001B[1;32m      6\u001B[0m \u001B[38;5;28mprint\u001B[39m(\u001B[38;5;124m\"\u001B[39m\u001B[38;5;130;01m\\n\u001B[39;00m\u001B[38;5;124m🚀 **Gradio Web Arayüzü Başlatılıyor...**\u001B[39m\u001B[38;5;124m\"\u001B[39m)\n\u001B[1;32m      7\u001B[0m script_path \u001B[38;5;241m=\u001B[39m os\u001B[38;5;241m.\u001B[39mpath\u001B[38;5;241m.\u001B[39mabspath(os\u001B[38;5;241m.\u001B[39mpath\u001B[38;5;241m.\u001B[39mjoin(os\u001B[38;5;241m.\u001B[39mgetcwd(), \u001B[38;5;124m\"\u001B[39m\u001B[38;5;124m../src/multi_task_web_demo.py\u001B[39m\u001B[38;5;124m\"\u001B[39m))\n\u001B[0;32m----> 8\u001B[0m \u001B[43msubprocess\u001B[49m\u001B[38;5;241;43m.\u001B[39;49m\u001B[43mrun\u001B[49m\u001B[43m(\u001B[49m\u001B[43m[\u001B[49m\u001B[38;5;124;43m\"\u001B[39;49m\u001B[38;5;124;43mpython\u001B[39;49m\u001B[38;5;124;43m\"\u001B[39;49m\u001B[43m,\u001B[49m\u001B[43m \u001B[49m\u001B[43mscript_path\u001B[49m\u001B[43m]\u001B[49m\u001B[43m)\u001B[49m\n\u001B[1;32m     10\u001B[0m \u001B[38;5;28mprint\u001B[39m(\u001B[38;5;124m\"\u001B[39m\u001B[38;5;130;01m\\n\u001B[39;00m\u001B[38;5;124m✅ Web Arayüzü Aç: http://127.0.0.1:7860\u001B[39m\u001B[38;5;124m\"\u001B[39m)\n",
      "File \u001B[0;32m/Library/Frameworks/Python.framework/Versions/3.12/lib/python3.12/subprocess.py:550\u001B[0m, in \u001B[0;36mrun\u001B[0;34m(input, capture_output, timeout, check, *popenargs, **kwargs)\u001B[0m\n\u001B[1;32m    548\u001B[0m \u001B[38;5;28;01mwith\u001B[39;00m Popen(\u001B[38;5;241m*\u001B[39mpopenargs, \u001B[38;5;241m*\u001B[39m\u001B[38;5;241m*\u001B[39mkwargs) \u001B[38;5;28;01mas\u001B[39;00m process:\n\u001B[1;32m    549\u001B[0m     \u001B[38;5;28;01mtry\u001B[39;00m:\n\u001B[0;32m--> 550\u001B[0m         stdout, stderr \u001B[38;5;241m=\u001B[39m \u001B[43mprocess\u001B[49m\u001B[38;5;241;43m.\u001B[39;49m\u001B[43mcommunicate\u001B[49m\u001B[43m(\u001B[49m\u001B[38;5;28;43minput\u001B[39;49m\u001B[43m,\u001B[49m\u001B[43m \u001B[49m\u001B[43mtimeout\u001B[49m\u001B[38;5;241;43m=\u001B[39;49m\u001B[43mtimeout\u001B[49m\u001B[43m)\u001B[49m\n\u001B[1;32m    551\u001B[0m     \u001B[38;5;28;01mexcept\u001B[39;00m TimeoutExpired \u001B[38;5;28;01mas\u001B[39;00m exc:\n\u001B[1;32m    552\u001B[0m         process\u001B[38;5;241m.\u001B[39mkill()\n",
      "File \u001B[0;32m/Library/Frameworks/Python.framework/Versions/3.12/lib/python3.12/subprocess.py:1201\u001B[0m, in \u001B[0;36mPopen.communicate\u001B[0;34m(self, input, timeout)\u001B[0m\n\u001B[1;32m   1199\u001B[0m         stderr \u001B[38;5;241m=\u001B[39m \u001B[38;5;28mself\u001B[39m\u001B[38;5;241m.\u001B[39mstderr\u001B[38;5;241m.\u001B[39mread()\n\u001B[1;32m   1200\u001B[0m         \u001B[38;5;28mself\u001B[39m\u001B[38;5;241m.\u001B[39mstderr\u001B[38;5;241m.\u001B[39mclose()\n\u001B[0;32m-> 1201\u001B[0m     \u001B[38;5;28;43mself\u001B[39;49m\u001B[38;5;241;43m.\u001B[39;49m\u001B[43mwait\u001B[49m\u001B[43m(\u001B[49m\u001B[43m)\u001B[49m\n\u001B[1;32m   1202\u001B[0m \u001B[38;5;28;01melse\u001B[39;00m:\n\u001B[1;32m   1203\u001B[0m     \u001B[38;5;28;01mif\u001B[39;00m timeout \u001B[38;5;129;01mis\u001B[39;00m \u001B[38;5;129;01mnot\u001B[39;00m \u001B[38;5;28;01mNone\u001B[39;00m:\n",
      "File \u001B[0;32m/Library/Frameworks/Python.framework/Versions/3.12/lib/python3.12/subprocess.py:1264\u001B[0m, in \u001B[0;36mPopen.wait\u001B[0;34m(self, timeout)\u001B[0m\n\u001B[1;32m   1262\u001B[0m     endtime \u001B[38;5;241m=\u001B[39m _time() \u001B[38;5;241m+\u001B[39m timeout\n\u001B[1;32m   1263\u001B[0m \u001B[38;5;28;01mtry\u001B[39;00m:\n\u001B[0;32m-> 1264\u001B[0m     \u001B[38;5;28;01mreturn\u001B[39;00m \u001B[38;5;28;43mself\u001B[39;49m\u001B[38;5;241;43m.\u001B[39;49m\u001B[43m_wait\u001B[49m\u001B[43m(\u001B[49m\u001B[43mtimeout\u001B[49m\u001B[38;5;241;43m=\u001B[39;49m\u001B[43mtimeout\u001B[49m\u001B[43m)\u001B[49m\n\u001B[1;32m   1265\u001B[0m \u001B[38;5;28;01mexcept\u001B[39;00m \u001B[38;5;167;01mKeyboardInterrupt\u001B[39;00m:\n\u001B[1;32m   1266\u001B[0m     \u001B[38;5;66;03m# https://bugs.python.org/issue25942\u001B[39;00m\n\u001B[1;32m   1267\u001B[0m     \u001B[38;5;66;03m# The first keyboard interrupt waits briefly for the child to\u001B[39;00m\n\u001B[1;32m   1268\u001B[0m     \u001B[38;5;66;03m# exit under the common assumption that it also received the ^C\u001B[39;00m\n\u001B[1;32m   1269\u001B[0m     \u001B[38;5;66;03m# generated SIGINT and will exit rapidly.\u001B[39;00m\n\u001B[1;32m   1270\u001B[0m     \u001B[38;5;28;01mif\u001B[39;00m timeout \u001B[38;5;129;01mis\u001B[39;00m \u001B[38;5;129;01mnot\u001B[39;00m \u001B[38;5;28;01mNone\u001B[39;00m:\n",
      "File \u001B[0;32m/Library/Frameworks/Python.framework/Versions/3.12/lib/python3.12/subprocess.py:2053\u001B[0m, in \u001B[0;36mPopen._wait\u001B[0;34m(self, timeout)\u001B[0m\n\u001B[1;32m   2051\u001B[0m \u001B[38;5;28;01mif\u001B[39;00m \u001B[38;5;28mself\u001B[39m\u001B[38;5;241m.\u001B[39mreturncode \u001B[38;5;129;01mis\u001B[39;00m \u001B[38;5;129;01mnot\u001B[39;00m \u001B[38;5;28;01mNone\u001B[39;00m:\n\u001B[1;32m   2052\u001B[0m     \u001B[38;5;28;01mbreak\u001B[39;00m  \u001B[38;5;66;03m# Another thread waited.\u001B[39;00m\n\u001B[0;32m-> 2053\u001B[0m (pid, sts) \u001B[38;5;241m=\u001B[39m \u001B[38;5;28;43mself\u001B[39;49m\u001B[38;5;241;43m.\u001B[39;49m\u001B[43m_try_wait\u001B[49m\u001B[43m(\u001B[49m\u001B[38;5;241;43m0\u001B[39;49m\u001B[43m)\u001B[49m\n\u001B[1;32m   2054\u001B[0m \u001B[38;5;66;03m# Check the pid and loop as waitpid has been known to\u001B[39;00m\n\u001B[1;32m   2055\u001B[0m \u001B[38;5;66;03m# return 0 even without WNOHANG in odd situations.\u001B[39;00m\n\u001B[1;32m   2056\u001B[0m \u001B[38;5;66;03m# http://bugs.python.org/issue14396.\u001B[39;00m\n\u001B[1;32m   2057\u001B[0m \u001B[38;5;28;01mif\u001B[39;00m pid \u001B[38;5;241m==\u001B[39m \u001B[38;5;28mself\u001B[39m\u001B[38;5;241m.\u001B[39mpid:\n",
      "File \u001B[0;32m/Library/Frameworks/Python.framework/Versions/3.12/lib/python3.12/subprocess.py:2011\u001B[0m, in \u001B[0;36mPopen._try_wait\u001B[0;34m(self, wait_flags)\u001B[0m\n\u001B[1;32m   2009\u001B[0m \u001B[38;5;250m\u001B[39m\u001B[38;5;124;03m\"\"\"All callers to this function MUST hold self._waitpid_lock.\"\"\"\u001B[39;00m\n\u001B[1;32m   2010\u001B[0m \u001B[38;5;28;01mtry\u001B[39;00m:\n\u001B[0;32m-> 2011\u001B[0m     (pid, sts) \u001B[38;5;241m=\u001B[39m \u001B[43mos\u001B[49m\u001B[38;5;241;43m.\u001B[39;49m\u001B[43mwaitpid\u001B[49m\u001B[43m(\u001B[49m\u001B[38;5;28;43mself\u001B[39;49m\u001B[38;5;241;43m.\u001B[39;49m\u001B[43mpid\u001B[49m\u001B[43m,\u001B[49m\u001B[43m \u001B[49m\u001B[43mwait_flags\u001B[49m\u001B[43m)\u001B[49m\n\u001B[1;32m   2012\u001B[0m \u001B[38;5;28;01mexcept\u001B[39;00m \u001B[38;5;167;01mChildProcessError\u001B[39;00m:\n\u001B[1;32m   2013\u001B[0m     \u001B[38;5;66;03m# This happens if SIGCLD is set to be ignored or waiting\u001B[39;00m\n\u001B[1;32m   2014\u001B[0m     \u001B[38;5;66;03m# for child processes has otherwise been disabled for our\u001B[39;00m\n\u001B[1;32m   2015\u001B[0m     \u001B[38;5;66;03m# process.  This child is dead, we can't get the status.\u001B[39;00m\n\u001B[1;32m   2016\u001B[0m     pid \u001B[38;5;241m=\u001B[39m \u001B[38;5;28mself\u001B[39m\u001B[38;5;241m.\u001B[39mpid\n",
      "\u001B[0;31mKeyboardInterrupt\u001B[0m: "
     ]
    }
   ],
   "execution_count": 1
  },
  {
   "metadata": {},
   "cell_type": "markdown",
   "source": [
    "### Sonuçlar:\n",
    "- Modelin kategori sınıflandırma doğruluğu 7600 resmi test verisi için %93.12 civarında.\n",
    "- Zero-Shot sınıflandırma, belirli konular için mantıklı tahminler yapabiliyor.\n",
    "- Özetleme performansı BLEU ve ROUGE-L skorlarına göre değerlendirildi.\n",
    "\n",
    "### Gelecek Çalışmalar:\n",
    "- Veri seti artırımı ve model ince ayarları yapılabilir.\n",
    "- Daha gelişmiş Zero-Shot modelleri denenebilir.\n",
    "- Özetleme için farklı modeller test edilebilir.\n"
   ],
   "id": "110ea34dd4ed11fb"
  }
 ],
 "metadata": {
  "kernelspec": {
   "display_name": "Python 3",
   "language": "python",
   "name": "python3"
  },
  "language_info": {
   "codemirror_mode": {
    "name": "ipython",
    "version": 2
   },
   "file_extension": ".py",
   "mimetype": "text/x-python",
   "name": "python",
   "nbconvert_exporter": "python",
   "pygments_lexer": "ipython2",
   "version": "2.7.6"
  }
 },
 "nbformat": 4,
 "nbformat_minor": 5
}
